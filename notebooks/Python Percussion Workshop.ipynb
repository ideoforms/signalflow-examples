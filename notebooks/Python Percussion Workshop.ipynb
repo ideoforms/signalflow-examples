{
 "cells": [
  {
   "cell_type": "code",
   "execution_count": null,
   "metadata": {},
   "outputs": [],
   "source": [
    "#--------------------------------------------------------------------------------\n",
    "# SignalFlow: Python Percussion Workshop examples\n",
    "#--------------------------------------------------------------------------------"
   ]
  },
  {
   "cell_type": "code",
   "execution_count": null,
   "id": "592306ee",
   "metadata": {},
   "outputs": [],
   "source": [
    "from signalflow import *\n",
    "\n",
    "graph = AudioGraph()"
   ]
  },
  {
   "cell_type": "code",
   "execution_count": null,
   "metadata": {},
   "outputs": [],
   "source": [
    "#--------------------------------------------------------------------------------\n",
    "# HI-HAT\n",
    "# Simple example using enveloped noise and a resonant high-pass filter.\n",
    "#--------------------------------------------------------------------------------"
   ]
  },
  {
   "cell_type": "code",
   "execution_count": null,
   "metadata": {},
   "outputs": [],
   "source": [
    "class HiHatPatch (Patch):\n",
    "    def __init__(self, amp=0.3, hpf=10000, decay=0.01, resonance=0.7):\n",
    "        super().__init__()\n",
    "        noise = WhiteNoise()\n",
    "        noise = SVFilter(noise, \"high_pass\", hpf, resonance)\n",
    "        env = ASREnvelope(0.001, 0.01, decay)\n",
    "        output = StereoPanner(noise * (env ** 3) * amp)\n",
    "        self.set_output(output)\n",
    "        self.set_auto_free_node(env)"
   ]
  },
  {
   "cell_type": "code",
   "execution_count": null,
   "metadata": {},
   "outputs": [],
   "source": [
    "hat = HiHatPatch(amp=0.5, hpf=10000, resonance=0.9, decay=0.3)\n",
    "hat.play()"
   ]
  },
  {
   "cell_type": "code",
   "execution_count": null,
   "metadata": {},
   "outputs": [],
   "source": [
    "#--------------------------------------------------------------------------------\n",
    "# KICK DRUM\n",
    "# Models the body of the drum with low-frequency sine wave with decreasing \n",
    "# frequency, and the strike with a short burst of low-pass filtered noise.\n",
    "#--------------------------------------------------------------------------------"
   ]
  },
  {
   "cell_type": "code",
   "execution_count": null,
   "id": "0dd7514d",
   "metadata": {},
   "outputs": [],
   "source": [
    "class KickDrumPatch(Patch):\n",
    "    def __init__(self):\n",
    "        super().__init__()\n",
    "        duration = 0.2\n",
    "\n",
    "        #--------------------------------------------------------------------------------\n",
    "        # Transient (noise): Models the initial strike\n",
    "        #--------------------------------------------------------------------------------\n",
    "        transient = WhiteNoise() * ASREnvelope(0, 0, 0.03)\n",
    "        transient = SVFilter(transient, \"low_pass\", 800)\n",
    "\n",
    "        #--------------------------------------------------------------------------------\n",
    "        # Body (tone): Models the tonal resonance of the body\n",
    "        #--------------------------------------------------------------------------------\n",
    "        frequency = Line(70, 40, duration)\n",
    "        sine = SineOscillator(frequency)\n",
    "        envelope = ASREnvelope(0.0, 0.0, duration)\n",
    "        body = sine * envelope\n",
    "\n",
    "        kick = (0.5 * transient) + body\n",
    "        output = StereoPanner(kick)\n",
    "        self.set_output(output)\n",
    "        self.set_auto_free_node(envelope)\n",
    "kick = KickDrumPatch()\n",
    "kick.play()"
   ]
  },
  {
   "cell_type": "code",
   "execution_count": null,
   "id": "ba820d1c",
   "metadata": {},
   "outputs": [],
   "source": [
    "kick = KickDrumPatch()\n",
    "kick.play()"
   ]
  },
  {
   "cell_type": "code",
   "execution_count": null,
   "metadata": {},
   "outputs": [],
   "source": [
    "#----------------------------------------------------------------------------------------------------\n",
    "# TOM\n",
    "#\n",
    "# Passes a short pulse through a resonant band-pass filter to create a pitched tom drum.\n",
    "# Resonance controls the duration of the tail.\n",
    "#\n",
    "# The midi_note_to_frequency helper function is used to map the output to a MIDI pitch.\n",
    "# Because we don't know when the note is going to end, DetectSilence is used to automatically\n",
    "# free the node when the tail has finished sounding.\n",
    "#----------------------------------------------------------------------------------------------------"
   ]
  },
  {
   "cell_type": "code",
   "execution_count": null,
   "metadata": {},
   "outputs": [],
   "source": [
    "class TomPatch (Patch):\n",
    "    def __init__(self, amp=0.3, resonance=0.99, note=56):\n",
    "        super().__init__()\n",
    "        impulse = ASREnvelope(0, 0, 0.01)\n",
    "        resonant = SVFilter(impulse, \"band_pass\", midi_note_to_frequency(note), resonance=resonance)\n",
    "        output = StereoPanner(resonant * amp)\n",
    "        detect_silence = DetectSilence(output, threshold=0.00001)\n",
    "        self.set_output(detect_silence)\n",
    "        self.auto_free_node = detect_silence"
   ]
  },
  {
   "cell_type": "code",
   "execution_count": null,
   "metadata": {},
   "outputs": [],
   "source": [
    "tom = TomPatch(resonance=0.99, note=56)\n",
    "tom.play()"
   ]
  },
  {
   "cell_type": "code",
   "execution_count": null,
   "metadata": {},
   "outputs": [],
   "source": [
    "#----------------------------------------------------------------------------------------------------\n",
    "# HI-HAT V2\n",
    "# \n",
    "# A more sophisticated hi-hat algorithm, taken from the approach used by some early Roland\n",
    "# drum machines:\n",
    "# \n",
    "# More information:\n",
    "# https://www.soundonsound.com/techniques/practical-cymbal-synthesis\n",
    "# https://www.cim.mcgill.ca/~clark/nordmodularbook/nm_percussion.html\n",
    "#----------------------------------------------------------------------------------------------------"
   ]
  },
  {
   "cell_type": "code",
   "execution_count": null,
   "id": "8df8e174",
   "metadata": {},
   "outputs": [],
   "source": [
    "class HiHatPatch2 (Patch):\n",
    "    def __init__(self, decay=0.2, hpf=6000, resonance=0.7):\n",
    "        super().__init__()\n",
    "        freqs = [1, 1.1414, 1.1962, 2.1430, 2.4961, 2.0558]\n",
    "        squares = [SquareOscillator(freq * 100) for freq in freqs]\n",
    "        square = Sum(squares)\n",
    "        filter1 = SVFilter(square, \"band_pass\", hpf, resonance)\n",
    "        filter2 = SVFilter(filter1, \"band_pass\", hpf + 2840, resonance)\n",
    "        envelope = ASREnvelope(0.01, 0, decay + 0.1, curve=7)\n",
    "        output = filter2 * envelope * 0.1\n",
    "        output = StereoPanner(output) \n",
    "        self.set_output(output)\n",
    "        self.set_auto_free_node(envelope)"
   ]
  },
  {
   "cell_type": "code",
   "execution_count": null,
   "id": "1b1fa256",
   "metadata": {},
   "outputs": [],
   "source": [
    "hat2 = HiHatPatch2(decay=1.0, hpf=6000, resonance=0.9)\n",
    "hat2.play()"
   ]
  },
  {
   "cell_type": "code",
   "execution_count": null,
   "metadata": {},
   "outputs": [],
   "source": [
    "#----------------------------------------------------------------------------------------------------\n",
    "# CLAP\n",
    "# Generate a short noise pulse, and play multiple repeats of the pulse with random delays.\n",
    "#----------------------------------------------------------------------------------------------------"
   ]
  },
  {
   "cell_type": "code",
   "execution_count": null,
   "metadata": {},
   "outputs": [],
   "source": [
    "class ClapPatch (Patch):\n",
    "    def __init__(self):\n",
    "        super().__init__()\n",
    "        claps = []\n",
    "        for n in range(4):\n",
    "            noise = WhiteNoise()\n",
    "            delay = 0.01 if n < 3 else 0.05\n",
    "            envelope = ASREnvelope(0.0, 0.02, delay)\n",
    "            envelope_shaped = envelope ** 4\n",
    "            output = noise * envelope_shaped\n",
    "            delayed = OneTapDelay(output, 0.03 * n + RandomUniform(0.0, 0.01, clock=0))\n",
    "            claps.append(delayed)\n",
    "        \n",
    "        total = Sum(claps) * 0.5\n",
    "        total = StereoPanner(total)\n",
    "        total = SVFilter(total, \"high_pass\", 5000, 0.3)\n",
    "        total = SVFilter(total, \"low_pass\", 9000, 0.5)\n",
    "        long_env = ASREnvelope(0, 0, 0.5)\n",
    "        self.set_output(total * long_env)\n",
    "        self.set_auto_free_node(long_env)"
   ]
  },
  {
   "cell_type": "code",
   "execution_count": null,
   "id": "bfd6d411",
   "metadata": {},
   "outputs": [],
   "source": [
    "clap = ClapPatch()\n",
    "clap.play()"
   ]
  },
  {
   "cell_type": "code",
   "execution_count": null,
   "metadata": {},
   "outputs": [],
   "source": [
    "#----------------------------------------------------------------------------------------------------\n",
    "# SEQUENCING\n",
    "# You will need to install the isobar sequencing library for this.\n",
    "# Sequencing is currently laggy and problematic on Windows - apologies!\n",
    "#----------------------------------------------------------------------------------------------------\n",
    "%pip install isobar"
   ]
  },
  {
   "cell_type": "code",
   "execution_count": null,
   "metadata": {},
   "outputs": [],
   "source": [
    "import isobar"
   ]
  },
  {
   "cell_type": "code",
   "execution_count": null,
   "id": "a69754cc",
   "metadata": {},
   "outputs": [],
   "source": [
    "#----------------------------------------------------------------------------------------------------\n",
    "# Create a timeline at 120bpm to sequence events\n",
    "#----------------------------------------------------------------------------------------------------\n",
    "output_device = isobar.SignalFlowOutputDevice(graph)\n",
    "timeline = isobar.Timeline(120, output_device=output_device)\n",
    "timeline.background()"
   ]
  },
  {
   "cell_type": "code",
   "execution_count": null,
   "id": "b1ba426d",
   "metadata": {},
   "outputs": [],
   "source": [
    "kick_track = timeline.schedule({\n",
    "    \"patch\": KickDrumPatch,\n",
    "    \"duration\": 1.0\n",
    "}, quantize=1.0, name=\"kick\", replace=True)\n",
    "\n",
    "hat_track = timeline.schedule({\n",
    "    \"patch\": HiHatPatch2,\n",
    "    \"duration\": 0.25,\n",
    "    \"params\": {\n",
    "        \"decay\": isobar.PSequence([0, 0, 2, 0, 0.5, 0, 0.2, 0]) * 0.2 + 0.01,\n",
    "        \"hpf\": isobar.PScaleLinExp(isobar.PBrown(0.5, 0.05, 0, 1), 0, 1, 6000, 15000),\n",
    "    }\n",
    "}, quantize=1.0, name=\"hat\", replace=True)\n",
    "\n",
    "tom_track = timeline.schedule({\n",
    "    \"patch\": TomPatch,\n",
    "    \"duration\": 0.25,\n",
    "    \"params\": {\n",
    "        \"note\": isobar.PSequence([40, 40, 48, 48, 43]) + 12,\n",
    "        \"resonance\": isobar.PWhite(0.98, 0.99),\n",
    "    },\n",
    "    \"active\": isobar.PSequence([0, 0, 1, 0, 0, 1, 0, 0, 1, 0, 0, 1, 0, 0, 1, 0]),\n",
    "}, quantize=1.0, name=\"tom\", replace=True)\n",
    "\n",
    "clap_track = timeline.schedule({\n",
    "    \"patch\": ClapPatch,\n",
    "    \"duration\": 0.25,\n",
    "    \"active\": isobar.PSequence([0, 0, 0, 0, 1, 0, 0, 0]),\n",
    "}, quantize=1.0, name=\"clap\", replace=True)"
   ]
  },
  {
   "cell_type": "code",
   "execution_count": null,
   "metadata": {},
   "outputs": [],
   "source": [
    "timeline.clear()"
   ]
  }
 ],
 "metadata": {
  "kernelspec": {
   "display_name": ".venv",
   "language": "python",
   "name": "python3"
  },
  "language_info": {
   "codemirror_mode": {
    "name": "ipython",
    "version": 3
   },
   "file_extension": ".py",
   "mimetype": "text/x-python",
   "name": "python",
   "nbconvert_exporter": "python",
   "pygments_lexer": "ipython3",
   "version": "3.12.0"
  }
 },
 "nbformat": 4,
 "nbformat_minor": 5
}
